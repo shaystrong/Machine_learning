{
 "cells": [
  {
   "cell_type": "markdown",
   "metadata": {},
   "source": [
    "# Why do borehles in Uganda (or anywhere) fail? \n",
    "\n",
    "```Key \n",
    " 🤔 means I am questioning \n",
    " ❓ means I am asking you\n",
    "```\n",
    "\n",
    "\n",
    "I imagine a lot of research and thought goes into choosing the water well drill sites, but does failure correlate with geographic details, population, or political reasons? Is there a trend based on which orgnization oversaw the installation or raised the capital? Can we create an ML model to determine if correlations exist?\n",
    "\n",
    "Firstly, what are boreholes? A borehole is a small narrow shaft drilled vertically or horizontally into the ground to  access to the water table below. \n",
    "\n",
    "<i>\n",
    "    \n",
    "- \"In rural areas women are usually responsible for collecting water and they benefit by having a borehole as it lightens the burden of carrying water over long distances, saves time and reduces the danger of having to walk alone to fetch water\",\n",
    "\n",
    "- \"Households and communities with boreholes are self reliant, they determine and manage their water usage and they do not have to adhere to municipal water restrictions\",\n",
    "\n",
    "- \"Boreholes are beneficial to agricultural projects, farming activities and even construction projects.  Water is used for irrigation, maintaining parks and gardens, for crops, livestock and for construction purposes\".  (http://www.62.co.za/blog/40-benefits-of-water-boreholes)\n",
    "\n",
    "- Fundamentally, there is no/limited water utility system in rural locations/3rd world countries. \n",
    "\n",
    "- Boreholes become a viable, albiet unsustainable (?), option </i>\n",
    "\n",
    "I don't know anything about boreholes (and you may know more). But when I started to fixate on this, there were many articles about failed boreholes and whether it is more of an infrastructure, geographic, or people based problem. It got me thinking. \n",
    "\n",
    "- Can I find historic data about borehole installation and function for an African country?  <span style=\"color:blue\"> 🤔 Start small and well (?) documented (even if old)</span>\n",
    "\n",
    "- What kind of data/info is gathered and can i decipher it? <span style=\"color:blue\"> 🤔 Glossary or terms that could be scientifically interpretable</span>\n",
    "\n",
    "- Is there enough variables/info to take a stab at understanding maybe what contrubtes to failure? <span style=\"color:blue\"> </i>🤔 ML model seems useful since i don't want to force logic or a set of rules about something I don't fully understand</span>\n",
    "\n",
    "- What would I even do with the results? <span style=\"color:blue\"> 🤔 Find an expert!!</span>\n",
    "\n",
    "- Can I find enough data to say anything meaningful? <span style=\"color:blue\"> 🤔 Oh man. No clue </span>\n",
    "\n",
    "## Let's play around with some data I found:\n",
    "\n",
    "1. What the data looks like\n",
    "2. What possible trends can we determine (if any)\n",
    "3. What don't we know or what would make this problem better?\n",
    "\n",
    "![borehole](Waterpump.jpg)"
   ]
  },
  {
   "cell_type": "markdown",
   "metadata": {},
   "source": [
    "## Data Aggregation"
   ]
  },
  {
   "cell_type": "code",
   "execution_count": 6,
   "metadata": {},
   "outputs": [],
   "source": [
    "%matplotlib inline\n",
    "from matplotlib import pyplot as plt\n",
    "\n",
    "import numpy as np\n",
    "import pandas as pd\n",
    "import geopandas as gpd\n"
   ]
  },
  {
   "cell_type": "markdown",
   "metadata": {},
   "source": [
    "I created a geojson (vector file) from this data source https://data.humdata.org/dataset/uganda-other \n",
    "This data comes from the UN Office for the Coordination of Humanitaria Affairs, S. & E. Africa (UNOCHA-ROSEA) (https://www.unocha.org/rosea).\n",
    "\n",
    "I actually fused this data above with ground water depth maps of Uganda from the British Geological Survey. https://www.bgs.ac.uk/research/groundwater/international/africanGroundwater/mapsDownload.html\n",
    "\n",
    "![borehole](humdata.png)"
   ]
  },
  {
   "cell_type": "code",
   "execution_count": 7,
   "metadata": {},
   "outputs": [],
   "source": [
    "gdf=gpd.read_file('uganda_acholi_water_sources_merge_clean.geojson')   #read in the merged geojson\n",
    "districts=gpd.read_file('uganda_distrcits.geojson')     #let's get a map of the Uganda Distrcits for context"
   ]
  },
  {
   "cell_type": "code",
   "execution_count": 8,
   "metadata": {},
   "outputs": [
    {
     "name": "stdout",
     "output_type": "stream",
     "text": [
      "11683\n"
     ]
    }
   ],
   "source": [
    "print(len(gdf))    #How big is this dataframe?"
   ]
  },
  {
   "cell_type": "code",
   "execution_count": 17,
   "metadata": {},
   "outputs": [
    {
     "data": {
      "text/html": [
       "<div>\n",
       "<style scoped>\n",
       "    .dataframe tbody tr th:only-of-type {\n",
       "        vertical-align: middle;\n",
       "    }\n",
       "\n",
       "    .dataframe tbody tr th {\n",
       "        vertical-align: top;\n",
       "    }\n",
       "\n",
       "    .dataframe thead th {\n",
       "        text-align: right;\n",
       "    }\n",
       "</style>\n",
       "<table border=\"1\" class=\"dataframe\">\n",
       "  <thead>\n",
       "    <tr style=\"text-align: right;\">\n",
       "      <th></th>\n",
       "      <th>index_left</th>\n",
       "      <th>X</th>\n",
       "      <th>Y</th>\n",
       "      <th>DTWAFRICA_</th>\n",
       "      <th>S_02_ID_x</th>\n",
       "      <th>DNAME_2002_x</th>\n",
       "      <th>D_02_ID_x</th>\n",
       "      <th>C_02_ID_x</th>\n",
       "      <th>SNAME_2002_x</th>\n",
       "      <th>CNAME_2002_x</th>\n",
       "      <th>...</th>\n",
       "      <th>P_02_ID</th>\n",
       "      <th>FTYPE</th>\n",
       "      <th>LABEL_P</th>\n",
       "      <th>DTW</th>\n",
       "      <th>DEPTH_clean</th>\n",
       "      <th>LOCATION</th>\n",
       "      <th>MONTH_CONS</th>\n",
       "      <th>REHAB_BY</th>\n",
       "      <th>NOTE</th>\n",
       "      <th>geometry</th>\n",
       "    </tr>\n",
       "  </thead>\n",
       "  <tbody>\n",
       "    <tr>\n",
       "      <th>0</th>\n",
       "      <td>0</td>\n",
       "      <td>33.125</td>\n",
       "      <td>3.211003</td>\n",
       "      <td>VS</td>\n",
       "      <td>305106</td>\n",
       "      <td>KITGUM</td>\n",
       "      <td>305</td>\n",
       "      <td>3051</td>\n",
       "      <td>LAGORO</td>\n",
       "      <td>CHUA</td>\n",
       "      <td>...</td>\n",
       "      <td>30510601</td>\n",
       "      <td>Populated Area</td>\n",
       "      <td>Laber</td>\n",
       "      <td>3.5</td>\n",
       "      <td>58</td>\n",
       "      <td>None</td>\n",
       "      <td>None</td>\n",
       "      <td>None</td>\n",
       "      <td>None</td>\n",
       "      <td>POINT (33.13316239620561 3.179302274159245)</td>\n",
       "    </tr>\n",
       "    <tr>\n",
       "      <th>1</th>\n",
       "      <td>3</td>\n",
       "      <td>33.125</td>\n",
       "      <td>3.161003</td>\n",
       "      <td>VS</td>\n",
       "      <td>305106</td>\n",
       "      <td>KITGUM</td>\n",
       "      <td>305</td>\n",
       "      <td>3051</td>\n",
       "      <td>LAGORO</td>\n",
       "      <td>CHUA</td>\n",
       "      <td>...</td>\n",
       "      <td>30510601</td>\n",
       "      <td>Populated Area</td>\n",
       "      <td>Laber</td>\n",
       "      <td>3.5</td>\n",
       "      <td>58</td>\n",
       "      <td>None</td>\n",
       "      <td>None</td>\n",
       "      <td>None</td>\n",
       "      <td>None</td>\n",
       "      <td>POINT (33.13316239620561 3.179302274159245)</td>\n",
       "    </tr>\n",
       "    <tr>\n",
       "      <th>2</th>\n",
       "      <td>515</td>\n",
       "      <td>33.175</td>\n",
       "      <td>3.161003</td>\n",
       "      <td>VS</td>\n",
       "      <td>312210</td>\n",
       "      <td>PADER</td>\n",
       "      <td>312</td>\n",
       "      <td>3122</td>\n",
       "      <td>WOL</td>\n",
       "      <td>AGAGO</td>\n",
       "      <td>...</td>\n",
       "      <td>30510601</td>\n",
       "      <td>Populated Area</td>\n",
       "      <td>Laber</td>\n",
       "      <td>3.5</td>\n",
       "      <td>58</td>\n",
       "      <td>None</td>\n",
       "      <td>None</td>\n",
       "      <td>None</td>\n",
       "      <td>None</td>\n",
       "      <td>POINT (33.13316239620561 3.179302274159245)</td>\n",
       "    </tr>\n",
       "    <tr>\n",
       "      <th>3</th>\n",
       "      <td>0</td>\n",
       "      <td>33.125</td>\n",
       "      <td>3.211003</td>\n",
       "      <td>VS</td>\n",
       "      <td>305106</td>\n",
       "      <td>KITGUM</td>\n",
       "      <td>305</td>\n",
       "      <td>3051</td>\n",
       "      <td>LAGORO</td>\n",
       "      <td>CHUA</td>\n",
       "      <td>...</td>\n",
       "      <td>30510601</td>\n",
       "      <td>Populated Area</td>\n",
       "      <td>Laber</td>\n",
       "      <td>3.5</td>\n",
       "      <td>49</td>\n",
       "      <td>None</td>\n",
       "      <td>None</td>\n",
       "      <td>None</td>\n",
       "      <td>None</td>\n",
       "      <td>POINT (33.13453067717418 3.180903416589643)</td>\n",
       "    </tr>\n",
       "    <tr>\n",
       "      <th>4</th>\n",
       "      <td>3</td>\n",
       "      <td>33.125</td>\n",
       "      <td>3.161003</td>\n",
       "      <td>VS</td>\n",
       "      <td>305106</td>\n",
       "      <td>KITGUM</td>\n",
       "      <td>305</td>\n",
       "      <td>3051</td>\n",
       "      <td>LAGORO</td>\n",
       "      <td>CHUA</td>\n",
       "      <td>...</td>\n",
       "      <td>30510601</td>\n",
       "      <td>Populated Area</td>\n",
       "      <td>Laber</td>\n",
       "      <td>3.5</td>\n",
       "      <td>49</td>\n",
       "      <td>None</td>\n",
       "      <td>None</td>\n",
       "      <td>None</td>\n",
       "      <td>None</td>\n",
       "      <td>POINT (33.13453067717418 3.180903416589643)</td>\n",
       "    </tr>\n",
       "  </tbody>\n",
       "</table>\n",
       "<p>5 rows × 67 columns</p>\n",
       "</div>"
      ],
      "text/plain": [
       "   index_left       X         Y DTWAFRICA_  S_02_ID_x DNAME_2002_x  D_02_ID_x  \\\n",
       "0           0  33.125  3.211003         VS     305106       KITGUM        305   \n",
       "1           3  33.125  3.161003         VS     305106       KITGUM        305   \n",
       "2         515  33.175  3.161003         VS     312210        PADER        312   \n",
       "3           0  33.125  3.211003         VS     305106       KITGUM        305   \n",
       "4           3  33.125  3.161003         VS     305106       KITGUM        305   \n",
       "\n",
       "   C_02_ID_x SNAME_2002_x CNAME_2002_x  \\\n",
       "0       3051       LAGORO         CHUA   \n",
       "1       3051       LAGORO         CHUA   \n",
       "2       3122          WOL        AGAGO   \n",
       "3       3051       LAGORO         CHUA   \n",
       "4       3051       LAGORO         CHUA   \n",
       "\n",
       "                      ...                        P_02_ID           FTYPE  \\\n",
       "0                     ...                       30510601  Populated Area   \n",
       "1                     ...                       30510601  Populated Area   \n",
       "2                     ...                       30510601  Populated Area   \n",
       "3                     ...                       30510601  Populated Area   \n",
       "4                     ...                       30510601  Populated Area   \n",
       "\n",
       "  LABEL_P  DTW  DEPTH_clean  LOCATION  MONTH_CONS REHAB_BY  NOTE  \\\n",
       "0   Laber  3.5           58      None        None     None  None   \n",
       "1   Laber  3.5           58      None        None     None  None   \n",
       "2   Laber  3.5           58      None        None     None  None   \n",
       "3   Laber  3.5           49      None        None     None  None   \n",
       "4   Laber  3.5           49      None        None     None  None   \n",
       "\n",
       "                                      geometry  \n",
       "0  POINT (33.13316239620561 3.179302274159245)  \n",
       "1  POINT (33.13316239620561 3.179302274159245)  \n",
       "2  POINT (33.13316239620561 3.179302274159245)  \n",
       "3  POINT (33.13453067717418 3.180903416589643)  \n",
       "4  POINT (33.13453067717418 3.180903416589643)  \n",
       "\n",
       "[5 rows x 67 columns]"
      ]
     },
     "execution_count": 17,
     "metadata": {},
     "output_type": "execute_result"
    }
   ],
   "source": [
    "gdf.head(5)     #Show me the first 5 entries"
   ]
  },
  {
   "cell_type": "markdown",
   "metadata": {},
   "source": [
    "❓ What variables can you think of here (or otherwise) that would be valuable?\n",
    "\n",
    "❓ What is the geospatial significance of this information?"
   ]
  },
  {
   "cell_type": "code",
   "execution_count": 60,
   "metadata": {},
   "outputs": [
    {
     "data": {
      "text/plain": [
       "<matplotlib.axes._subplots.AxesSubplot at 0x117962f60>"
      ]
     },
     "execution_count": 60,
     "metadata": {},
     "output_type": "execute_result"
    },
    {
     "data": {
      "image/png": "[encoded data removed]",
      "text/plain": [
       "<Figure size 1440x720 with 1 Axes>"
      ]
     },
     "metadata": {
      "needs_background": "light"
     },
     "output_type": "display_data"
    }
   ],
   "source": [
    "plt.rcParams['figure.figsize'] = (20, 10)\n",
    "ax = districts.plot(color='blue')\n",
    "\n",
    "for idx, row in gdf.iterrows():\n",
    "    coordinates = row['geometry'].coords.xy\n",
    "    x, y = coordinates[0][0], coordinates[1][0]\n",
    "\n",
    "gdf.plot(ax=ax, color='black')"
   ]
  },
  {
   "cell_type": "markdown",
   "metadata": {},
   "source": [
    "We really need 'categorical' information. Much of this data are strange strings/characters. \n",
    "\n",
    "❓ What are some things we could do to standardize this data?\n",
    "\n",
    "❓ Why would that be beneficial?"
   ]
  },
  {
   "cell_type": "code",
   "execution_count": 19,
   "metadata": {},
   "outputs": [],
   "source": [
    "gdf.STATUS=gdf.STATUS.str.lower()\n",
    "gdf['STATUS']=np.where(gdf['STATUS'].str.contains(\"abandoned\"), 1,\n",
    "             np.where(gdf['STATUS'].str.contains(\"blocked\"), 2,\n",
    "             np.where(gdf['STATUS'].str.contains(\"condemned\"), 3,\n",
    "             np.where(gdf['STATUS'].str.contains(\"deserted\"), 4,\n",
    "             np.where(gdf['STATUS'].str.contains(\"dried up\"),5,\n",
    "             np.where(gdf['STATUS'].str.contains(\"dry\"),5,\n",
    "             np.where(gdf['STATUS'].str.contains(\"fishing required\"),6,\n",
    "             np.where(gdf['STATUS'].str.contains(\"functional\"),7,\n",
    "             np.where(gdf['STATUS'].str.contains(\"low yield\"),8,\n",
    "             np.where(gdf['STATUS'].str.contains(\"needs repair\"),9,\n",
    "             np.where(gdf['STATUS'].str.contains(\"non functional\"),10,\n",
    "             np.where(gdf['STATUS'].str.contains(\"non-functional\"),10,\n",
    "             np.where(gdf['STATUS'].str.contains(\"silted\"),11,\n",
    "             np.where(gdf['STATUS'].str.contains(\"temporary down\"),12,\n",
    "             np.where(gdf['STATUS'].str.contains(\"unknown\"), 0,0)))))))))))))))\n",
    "\n",
    "gdf['VILLAGE'] = gdf['VILLAGE'].astype('category')\n",
    "cat_columns = gdf.select_dtypes(['category']).columns\n",
    "gdf[cat_columns] = gdf[cat_columns].apply(lambda x: x.cat.codes)\n",
    "\n",
    "gdf['FUND_AGENC'] = gdf['FUND_AGENC'].astype('category')\n",
    "cat_columns = gdf.select_dtypes(['category']).columns\n",
    "gdf[cat_columns] = gdf[cat_columns].apply(lambda x: x.cat.codes)\n",
    "\n"
   ]
  },
  {
   "cell_type": "markdown",
   "metadata": {},
   "source": [
    "....Lots of the above to create a cleaned dataframe. I'll spare you the details, but took many of the variables and created integer based categories to ingest into a predictive model. We want strings to become numbers, representative of categories."
   ]
  },
  {
   "cell_type": "code",
   "execution_count": 20,
   "metadata": {},
   "outputs": [],
   "source": [
    "df=pd.read_csv('train1.csv')    #this is the cleaned guy. "
   ]
  },
  {
   "cell_type": "markdown",
   "metadata": {},
   "source": [
    "Still some weird things going on with the columns...."
   ]
  },
  {
   "cell_type": "code",
   "execution_count": 21,
   "metadata": {},
   "outputs": [
    {
     "name": "stdout",
     "output_type": "stream",
     "text": [
      "10222\n"
     ]
    }
   ],
   "source": [
    "df.fillna(value=99999, inplace=True)\n",
    "df=df[['X', 'Y', 'S_02_ID_x', 'DNAME_2002', 'D_02_ID_x',\n",
    "       'C_02_ID_x', 'SNAME_2002_x', 'CNAME_2002_x', '2002_CENSU', 'PROJ_POP_J',\n",
    "       'Urban', 'Cvrg2008', 'FID_1', 'FID_1_1', 'DISTRICT', 'VILLAGE',\n",
    "       'SOURCE_NAM', 'FUND_AGENC', 'YEAR_CONST', 'SOURCE_TYP', 'OWNER_TYPE',\n",
    "       'STATUS', 'DEPTH', 'SWL', 'YIELD', 'RECEIVED_N', 'RECEIVED_E',\n",
    "       'WSSC__EXIS', 'WSSC_TRAIN', 'CONTRACTOR', 'Y_UTM200', 'DNAME_2010',\n",
    "       'DNAME_2006', 'CNAME_2006', 'SNAME_2006', 'PNAME_2006', 'FID_2',\n",
    "       'D_02_ID_y', 'PNAME_2002', 'P_02_ID', 'YPE', 'LABEL_P', 'DTW',\n",
    "       'DEPTH_clean', 'uid']]\n",
    "#what ARE some of these variables? Little to know documentation avilable\n",
    "\n",
    "print(len(df))"
   ]
  },
  {
   "cell_type": "markdown",
   "metadata": {},
   "source": [
    "We want to, basically, create a model to predict the well 'status'. This is our 'target' variable. ALl the other variables I am assuming could be used to predict this target. \n",
    "\n",
    "❓ What are flaws to these assumptions?\n",
    "\n",
    "So let's see what the population of statuses that we have:\n"
   ]
  },
  {
   "cell_type": "code",
   "execution_count": 22,
   "metadata": {},
   "outputs": [
    {
     "data": {
      "text/plain": [
       "STATUS\n",
       "1      322\n",
       "2        6\n",
       "3        3\n",
       "4        4\n",
       "5       15\n",
       "6        2\n",
       "7     9790\n",
       "8        4\n",
       "9        3\n",
       "10      52\n",
       "11      21\n",
       "Name: X, dtype: int64"
      ]
     },
     "execution_count": 22,
     "metadata": {},
     "output_type": "execute_result"
    }
   ],
   "source": [
    "df.groupby('STATUS').count()['X']"
   ]
  },
  {
   "cell_type": "markdown",
   "metadata": {},
   "source": [
    "😱 So many class '7'!!!!!!!\n",
    "\n",
    "\n",
    "❓ Why would that be a problem?\n",
    "\n",
    "\n",
    "\n",
    "\n"
   ]
  },
  {
   "cell_type": "code",
   "execution_count": 23,
   "metadata": {},
   "outputs": [],
   "source": [
    "to_remove = np.random.choice(df[df['STATUS']==7].index,size=9500,replace=False)   #OK waaay too many functional wells. \n",
    "df=df.drop(to_remove)\n",
    "\n",
    "#pare it down to things that I can ascribe meaning to. Maybe faulty? May have removed important/meaningful information?\n",
    "df_keys=df[['X', 'Y', '2002_CENSU','PROJ_POP_J', 'Urban', 'Cvrg2008',  'DISTRICT', 'VILLAGE','STATUS',\n",
    "       'SOURCE_NAM', 'FUND_AGENC', 'YEAR_CONST', 'SOURCE_TYP', 'OWNER_TYPE','DEPTH', 'SWL', 'YIELD', 'RECEIVED_N',\n",
    "       'RECEIVED_E', 'WSSC__EXIS', 'WSSC_TRAIN', 'CONTRACTOR', 'Y_UTM200','YPE',\n",
    "       'LABEL_P', 'DTW', 'DEPTH_clean','uid']]\n",
    "\n"
   ]
  },
  {
   "cell_type": "markdown",
   "metadata": {},
   "source": [
    "Whew. Maybe now we are ready for ML?"
   ]
  },
  {
   "cell_type": "markdown",
   "metadata": {},
   "source": [
    "## Machine Learning"
   ]
  },
  {
   "cell_type": "code",
   "execution_count": 29,
   "metadata": {},
   "outputs": [],
   "source": [
    "from sklearn import linear_model\n",
    "from sklearn.model_selection import train_test_split\n",
    "\n",
    "keys=df_keys[['X', 'Y', '2002_CENSU','PROJ_POP_J', 'Urban',  'DISTRICT', 'VILLAGE',\n",
    "       'SOURCE_NAM', 'FUND_AGENC', 'YEAR_CONST', 'SOURCE_TYP', 'OWNER_TYPE','DEPTH', 'SWL', 'YIELD', 'RECEIVED_N',\n",
    "       'RECEIVED_E', 'WSSC__EXIS', 'WSSC_TRAIN', 'CONTRACTOR', 'Y_UTM200','YPE', 'DTW', 'DEPTH_clean','uid']]\n",
    "X = df_keys[['X', 'Y', '2002_CENSU','PROJ_POP_J', 'Urban',  'DISTRICT', 'VILLAGE',\n",
    "       'SOURCE_NAM', 'FUND_AGENC', 'YEAR_CONST', 'SOURCE_TYP', 'OWNER_TYPE','DEPTH', 'SWL', 'YIELD', 'RECEIVED_N',\n",
    "       'RECEIVED_E', 'WSSC__EXIS', 'WSSC_TRAIN', 'CONTRACTOR', 'Y_UTM200','YPE', 'DTW', 'DEPTH_clean','uid']].values.reshape(-1,25)\n",
    "y = df_keys['STATUS']     #Target\n",
    "\n",
    "X_train, X_test, y_train, y_test = train_test_split(X, y, test_size=0.25)\n",
    "\n"
   ]
  },
  {
   "cell_type": "markdown",
   "metadata": {},
   "source": [
    "❓ What kind of ML model should we make?\n"
   ]
  },
  {
   "cell_type": "code",
   "execution_count": 37,
   "metadata": {},
   "outputs": [],
   "source": [
    "from sklearn.linear_model import LogisticRegression\n",
    "\n",
    "logmodel = LogisticRegression().fit(X_train, y_train)\n",
    "\n",
    "logmodel.coef_[0]\n",
    "coefs=logmodel.coef_[0]\n"
   ]
  },
  {
   "cell_type": "code",
   "execution_count": 38,
   "metadata": {},
   "outputs": [
    {
     "name": "stdout",
     "output_type": "stream",
     "text": [
      "[22  3  9  8  7]\n"
     ]
    }
   ],
   "source": [
    "top_five=np.argpartition(coefs, -5)[-5:]\n",
    "print(top_five)"
   ]
  },
  {
   "cell_type": "code",
   "execution_count": 39,
   "metadata": {},
   "outputs": [
    {
     "name": "stdout",
     "output_type": "stream",
     "text": [
      "Index(['DTW', 'PROJ_POP_J', 'YEAR_CONST', 'FUND_AGENC', 'SOURCE_NAM'], dtype='object')\n"
     ]
    }
   ],
   "source": [
    "print(keys.keys()[top_five])\n",
    "\n"
   ]
  },
  {
   "cell_type": "markdown",
   "metadata": {},
   "source": [
    "❓ Why choose logistic regression? "
   ]
  },
  {
   "cell_type": "markdown",
   "metadata": {},
   "source": [
    "Fundamentally, we want to see how the probability of a status may be affected by one or more variables\n"
   ]
  },
  {
   "cell_type": "markdown",
   "metadata": {},
   "source": [
    "We could layer other ML-based output. Like landuse/land-classification (SVM, neural network), etc."
   ]
  },
  {
   "cell_type": "code",
   "execution_count": 62,
   "metadata": {},
   "outputs": [
    {
     "data": {
      "text/plain": [
       "SOURCE_NAM\n",
       "AD14                              2\n",
       "ASTU                              2\n",
       "ASTU Detacth                      2\n",
       "AVSI CPD                          6\n",
       "Abalo kodi                        4\n",
       "Abicinia                          3\n",
       "Abilonino                         3\n",
       "Abim                              7\n",
       "Abong Rwot                        2\n",
       "Abongo peke                       3\n",
       "Abuga SW                          4\n",
       "Acholibur Hqrs                    3\n",
       "Acholibur P/S                     4\n",
       "Acord                             3\n",
       "Acuru P/S                         4\n",
       "Acut tonga                        4\n",
       "Adaga                             3\n",
       "Adilang HC                        2\n",
       "Adilang SS/Bk 14                  3\n",
       "Adinga                            2\n",
       "Adodi                             2\n",
       "Adunu West                        4\n",
       "Agole                             4\n",
       "Agole PS                         12\n",
       "Agoro Hqrs                        3\n",
       "Agoro P.7                         3\n",
       "AgoroH/center                     3\n",
       "Agoromin IDP                      3\n",
       "Agulu farm                        4\n",
       "Agung camp                        3\n",
       "                                 ..\n",
       "Wiaceng                           2\n",
       "Wicere A                          2\n",
       "Wicere B                          2\n",
       "Wigweng                           2\n",
       "Wii Acodo                         2\n",
       "Wind mill                         4\n",
       "Windmill                          3\n",
       "Wol I/Block D II                  3\n",
       "Wol II/Block D III/Wol Centra     3\n",
       "Wol V/Block E/HCII                2\n",
       "Wol VI/Block E II                 2\n",
       "Wol VIII/Block E IV               3\n",
       "World Food                        6\n",
       "Worober                           6\n",
       "Wot Tek                           3\n",
       "Yaa Pa Achoro                     4\n",
       "Yaa Yen                           3\n",
       "Yapii                             4\n",
       "Yepa A                            3\n",
       "Yepa P.7                          2\n",
       "Yepa P.S                          2\n",
       "Ywaya                             2\n",
       "Zone A                           12\n",
       "Zone B                            6\n",
       "Zone D                            6\n",
       "katebo                            2\n",
       "kibogi                            2\n",
       "school                            2\n",
       "tepwoyo                           3\n",
       "w\\odong                           3\n",
       "Name: X, Length: 1024, dtype: int64"
      ]
     },
     "execution_count": 62,
     "metadata": {},
     "output_type": "execute_result"
    }
   ],
   "source": [
    "gdf.groupby('SOURCE_NAM').count()['X']  #almost like 'Anderson Land-use classes?! \n",
    "# Could we do a land-use svm/neural net on this?'"
   ]
  },
  {
   "cell_type": "code",
   "execution_count": 43,
   "metadata": {},
   "outputs": [],
   "source": [
    "from sklearn import svm, datasets\n",
    "from sklearn.model_selection import train_test_split\n",
    "from sklearn.metrics import confusion_matrix\n",
    "from sklearn.utils.multiclass import unique_labels\n",
    "\n",
    "\n",
    "def plot_confusion_matrix(y_true, y_pred, classes,\n",
    "                          normalize=False,\n",
    "                          title=None,\n",
    "                          cmap=plt.cm.Blues):\n",
    "    title = title\n",
    "\n",
    "    # Compute confusion matrix\n",
    "    cm = confusion_matrix(y_true, y_pred)\n",
    "    # Only use the labels that appear in the data\n",
    "    classes = classes  #[unique_labels(y_true, y_pred)]\n",
    "    if normalize:\n",
    "        cm = cm.astype('float') / cm.sum(axis=1)[:, np.newaxis]\n",
    "        print(\"Normalized confusion matrix\")\n",
    "    else:\n",
    "        print('Confusion matrix, without normalization')\n",
    "\n",
    "    #print(cm)\n",
    "\n",
    "    fig, ax = plt.subplots()\n",
    "    im = ax.imshow(cm, interpolation='nearest', cmap=cmap)\n",
    "    ax.figure.colorbar(im, ax=ax)\n",
    "    # We want to show all ticks...\n",
    "    ax.set(xticks=np.arange(cm.shape[1]),\n",
    "           yticks=np.arange(cm.shape[0]),\n",
    "           # ... and label them with the respective list entries\n",
    "           xticklabels=classes, yticklabels=classes,\n",
    "           title=title,\n",
    "           ylabel='True label',\n",
    "           xlabel='Predicted label')\n",
    "\n",
    "    # Rotate the tick labels and set their alignment.\n",
    "    plt.setp(ax.get_xticklabels(), rotation=45, ha=\"right\",\n",
    "             rotation_mode=\"anchor\")\n",
    "\n",
    "    # Loop over data dimensions and create text annotations.\n",
    "    fmt = '.2f' if normalize else 'd'\n",
    "    thresh = cm.max() / 2.\n",
    "    for i in range(cm.shape[0]):\n",
    "        for j in range(cm.shape[1]):\n",
    "            ax.text(j, i, format(cm[i, j], fmt),\n",
    "                    ha=\"center\", va=\"center\",\n",
    "                    color=\"white\" if cm[i, j] > thresh else \"black\")\n",
    "    fig.tight_layout()\n",
    "    return ax\n",
    "\n"
   ]
  },
  {
   "cell_type": "code",
   "execution_count": 44,
   "metadata": {},
   "outputs": [],
   "source": [
    "np.set_printoptions(precision=2)\n",
    "y_pred=logmodel.predict(X_test)\n",
    "\n"
   ]
  },
  {
   "cell_type": "markdown",
   "metadata": {},
   "source": [
    "❓ Why do we predict on a 'test' set? What is unique or different about this set relative to what we trained on?"
   ]
  },
  {
   "cell_type": "code",
   "execution_count": 45,
   "metadata": {},
   "outputs": [
    {
     "name": "stdout",
     "output_type": "stream",
     "text": [
      "Confusion matrix, without normalization\n"
     ]
    },
    {
     "data": {
      "image/png": "[encoded data removed]",
      "text/plain": [
       "<Figure size 432x288 with 2 Axes>"
      ]
     },
     "metadata": {
      "needs_background": "light"
     },
     "output_type": "display_data"
    }
   ],
   "source": [
    "y_test=y_test.values.reshape((181, -1))\n",
    "class_names=['abandoned','blocked','condemned','deserted','dry','fishing required','functional','low yield','needs repair','non-functional','silted']\n",
    "plot_confusion_matrix(np.array(y_pred), y_test, classes=class_names,title='Uganda Water Well (Borehole) Status')\n",
    "\n",
    "\n",
    "plt.show()\n",
    "\n",
    "\n"
   ]
  },
  {
   "cell_type": "code",
   "execution_count": 46,
   "metadata": {},
   "outputs": [
    {
     "name": "stderr",
     "output_type": "stream",
     "text": [
      "/usr/local/lib/python3.7/site-packages/pandas_ml/confusion_matrix/abstract.py:66: FutureWarning: \n",
      "Passing list-likes to .loc or [] with any missing label will raise\n",
      "KeyError in the future, you can use .reindex() as an alternative.\n",
      "\n",
      "See the documentation here:\n",
      "https://pandas.pydata.org/pandas-docs/stable/indexing.html#deprecate-loc-reindex-listlike\n",
      "  df = df.loc[idx, idx.copy()].fillna(0)  # if some columns or rows are missing\n",
      "/usr/local/lib/python3.7/site-packages/pandas_ml/confusion_matrix/stats.py:60: FutureWarning: supplying multiple axes to axis is deprecated and will be removed in a future version.\n",
      "  num = df[df > 1].dropna(axis=[0, 1], thresh=1).applymap(lambda n: choose(n, 2)).sum().sum() - np.float64(nis2 * njs2) / n2\n",
      "/usr/local/lib/python3.7/site-packages/pandas_ml/confusion_matrix/bcm.py:191: RuntimeWarning: invalid value encountered in double_scalars\n",
      "  return(np.float64(self.TP) / self.P)\n",
      "/usr/local/lib/python3.7/site-packages/pandas_ml/confusion_matrix/bcm.py:276: RuntimeWarning: invalid value encountered in double_scalars\n",
      "  return(np.float64(self.FN) / self.P)\n",
      "/usr/local/lib/python3.7/site-packages/pandas_ml/confusion_matrix/bcm.py:302: RuntimeWarning: invalid value encountered in true_divide\n",
      "  * (self.TN + self.FP) * (self.TN + self.FN)))\n",
      "/usr/local/lib/python3.7/site-packages/pandas_ml/confusion_matrix/bcm.py:330: RuntimeWarning: divide by zero encountered in double_scalars\n",
      "  return(np.float64(self.TPR) / self.FPR)\n"
     ]
    },
    {
     "name": "stdout",
     "output_type": "stream",
     "text": [
      "Confusion Matrix:\n",
      "\n",
      "Predicted   1  2  4  5   7  8  9  10  11  __all__\n",
      "Actual                                           \n",
      "1          68  0  0  0  33  0  0   0   0      101\n",
      "2           0  0  0  0   0  0  0   0   0        0\n",
      "4           0  0  1  0   0  0  0   0   0        1\n",
      "5           0  0  0  1   1  0  0   0   0        2\n",
      "7          14  0  0  3  32  0  1   5   0       55\n",
      "8           0  0  0  0   3  0  0   0   0        3\n",
      "9           0  0  0  0   0  0  0   0   0        0\n",
      "10          4  2  0  2   1  0  0   8   0       17\n",
      "11          2  0  0  0   0  0  0   0   0        2\n",
      "__all__    88  2  1  6  70  0  1  13   0      181\n",
      "\n",
      "\n",
      "Overall Statistics:\n",
      "\n",
      "Accuracy: 0.6077348066298343\n",
      "95% CI: (0.5325521101263253, 0.6793276468616547)\n",
      "No Information Rate: ToDo\n",
      "P-Value [Acc > NIR]: 0.0006758566935203789\n",
      "Kappa: 0.35059881752488753\n",
      "Mcnemar's Test P-Value: ToDo\n",
      "\n",
      "\n",
      "Class Statistics:\n",
      "\n",
      "Classes                                      1          2           4   \\\n",
      "Population                                  181        181         181   \n",
      "P: Condition positive                       101          0           1   \n",
      "N: Condition negative                        80        181         180   \n",
      "Test outcome positive                        88          2           1   \n",
      "Test outcome negative                        93        179         180   \n",
      "TP: True Positive                            68          0           1   \n",
      "TN: True Negative                            60        179         180   \n",
      "FP: False Positive                           20          2           0   \n",
      "FN: False Negative                           33          0           0   \n",
      "TPR: (Sensitivity, hit rate, recall)   0.673267        NaN           1   \n",
      "TNR=SPC: (Specificity)                     0.75    0.98895           1   \n",
      "PPV: Pos Pred Value (Precision)        0.772727          0           1   \n",
      "NPV: Neg Pred Value                    0.645161          1           1   \n",
      "FPR: False-out                             0.25  0.0110497           0   \n",
      "FDR: False Discovery Rate              0.227273          1           0   \n",
      "FNR: Miss Rate                         0.326733        NaN           0   \n",
      "ACC: Accuracy                          0.707182    0.98895           1   \n",
      "F1 score                               0.719577          0           1   \n",
      "MCC: Matthews correlation coefficient  0.420569        NaN           1   \n",
      "Informedness                           0.423267        NaN           1   \n",
      "Markedness                             0.417889          0           1   \n",
      "Prevalence                             0.558011          0  0.00552486   \n",
      "LR+: Positive likelihood ratio          2.69307        NaN         inf   \n",
      "LR-: Negative likelihood ratio         0.435644        NaN           0   \n",
      "DOR: Diagnostic odds ratio              6.18182        NaN         inf   \n",
      "FOR: False omission rate               0.354839          0           0   \n",
      "\n",
      "Classes                                        5         7          8   \\\n",
      "Population                                    181       181        181   \n",
      "P: Condition positive                           2        55          3   \n",
      "N: Condition negative                         179       126        178   \n",
      "Test outcome positive                           6        70          0   \n",
      "Test outcome negative                         175       111        181   \n",
      "TP: True Positive                               1        32          0   \n",
      "TN: True Negative                             174        88        178   \n",
      "FP: False Positive                              5        38          0   \n",
      "FN: False Negative                              1        23          3   \n",
      "TPR: (Sensitivity, hit rate, recall)          0.5  0.581818          0   \n",
      "TNR=SPC: (Specificity)                   0.972067  0.698413          1   \n",
      "PPV: Pos Pred Value (Precision)          0.166667  0.457143        NaN   \n",
      "NPV: Neg Pred Value                      0.994286  0.792793   0.983425   \n",
      "FPR: False-out                           0.027933  0.301587          0   \n",
      "FDR: False Discovery Rate                0.833333  0.542857        NaN   \n",
      "FNR: Miss Rate                                0.5  0.418182          1   \n",
      "ACC: Accuracy                            0.966851  0.662983   0.983425   \n",
      "F1 score                                     0.25     0.512          0   \n",
      "MCC: Matthews correlation coefficient    0.275645   0.26465        NaN   \n",
      "Informedness                             0.472067  0.280231          0   \n",
      "Markedness                               0.160952  0.249936        NaN   \n",
      "Prevalence                              0.0110497  0.303867  0.0165746   \n",
      "LR+: Positive likelihood ratio               17.9   1.92919        NaN   \n",
      "LR-: Negative likelihood ratio           0.514368   0.59876          1   \n",
      "DOR: Diagnostic odds ratio                   34.8   3.22197        NaN   \n",
      "FOR: False omission rate               0.00571429  0.207207  0.0165746   \n",
      "\n",
      "Classes                                        9          10         11  \n",
      "Population                                    181        181        181  \n",
      "P: Condition positive                           0         17          2  \n",
      "N: Condition negative                         181        164        179  \n",
      "Test outcome positive                           1         13          0  \n",
      "Test outcome negative                         180        168        181  \n",
      "TP: True Positive                               0          8          0  \n",
      "TN: True Negative                             180        159        179  \n",
      "FP: False Positive                              1          5          0  \n",
      "FN: False Negative                              0          9          2  \n",
      "TPR: (Sensitivity, hit rate, recall)          NaN   0.470588          0  \n",
      "TNR=SPC: (Specificity)                   0.994475   0.969512          1  \n",
      "PPV: Pos Pred Value (Precision)                 0   0.615385        NaN  \n",
      "NPV: Neg Pred Value                             1   0.946429    0.98895  \n",
      "FPR: False-out                         0.00552486  0.0304878          0  \n",
      "FDR: False Discovery Rate                       1   0.384615        NaN  \n",
      "FNR: Miss Rate                                NaN   0.529412          1  \n",
      "ACC: Accuracy                            0.994475   0.922652    0.98895  \n",
      "F1 score                                        0   0.533333          0  \n",
      "MCC: Matthews correlation coefficient         NaN   0.497247        NaN  \n",
      "Informedness                                  NaN     0.4401          0  \n",
      "Markedness                                      0   0.561813        NaN  \n",
      "Prevalence                                      0  0.0939227  0.0110497  \n",
      "LR+: Positive likelihood ratio                NaN    15.4353        NaN  \n",
      "LR-: Negative likelihood ratio                NaN    0.54606          1  \n",
      "DOR: Diagnostic odds ratio                    NaN    28.2667        NaN  \n",
      "FOR: False omission rate                        0  0.0535714  0.0110497  \n"
     ]
    },
    {
     "name": "stderr",
     "output_type": "stream",
     "text": [
      "/usr/local/lib/python3.7/site-packages/pandas_ml/confusion_matrix/bcm.py:236: RuntimeWarning: invalid value encountered in double_scalars\n",
      "  return(np.float64(self.TP) / self.PositiveTest)\n",
      "/usr/local/lib/python3.7/site-packages/pandas_ml/confusion_matrix/bcm.py:267: RuntimeWarning: invalid value encountered in double_scalars\n",
      "  return(np.float64(self.FP) / self.PositiveTest)\n",
      "/usr/local/lib/python3.7/site-packages/pandas_ml/confusion_matrix/bcm.py:330: RuntimeWarning: invalid value encountered in double_scalars\n",
      "  return(np.float64(self.TPR) / self.FPR)\n"
     ]
    }
   ],
   "source": [
    "from pandas_ml import ConfusionMatrix\n",
    "cm = ConfusionMatrix(y_pred, y_test[:,0])\n",
    "cm.print_stats()"
   ]
  },
  {
   "cell_type": "code",
   "execution_count": null,
   "metadata": {},
   "outputs": [],
   "source": []
  }
 ],
 "metadata": {
  "kernelspec": {
   "display_name": "Python 3",
   "language": "python",
   "name": "python3"
  },
  "language_info": {
   "codemirror_mode": {
    "name": "ipython",
    "version": 3
   },
   "file_extension": ".py",
   "mimetype": "text/x-python",
   "name": "python",
   "nbconvert_exporter": "python",
   "pygments_lexer": "ipython3",
   "version": "3.7.0"
  }
 },
 "nbformat": 4,
 "nbformat_minor": 2
}
