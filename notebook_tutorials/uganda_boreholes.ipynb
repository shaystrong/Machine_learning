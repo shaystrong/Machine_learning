{
 "cells": [
  {
   "cell_type": "markdown",
   "metadata": {},
   "source": [
    "# Why do boreholes in Uganda (or anywhere) fail? \n",
    "\n",
    "I imagine a lot of research and thought goes into choosing the drill sites, but does failure correlate with geographic details, population, or political reasons? Is there a trend based on which orgnization oversaw the installation or raised the capital? Can we create an ML model to determine if correlations exist?\n",
    "\n",
    "I don't know anything about boreholes (and you may know more). But let's play around with some data to determine:\n",
    "(1) What the data looks like\n",
    "(2) What possible trends can we determine (if any)\n",
    "(3) What don't we know or what would make this problem better?\n",
    "\n",
    "![borehole](Waterpump.jpg)"
   ]
  },
  {
   "cell_type": "code",
   "execution_count": 1,
   "metadata": {},
   "outputs": [],
   "source": [
    "%matplotlib inline\n",
    "from matplotlib import pyplot as plt\n",
    "\n",
    "import numpy as np\n",
    "import pandas as pd\n",
    "import geopandas as gpd\n"
   ]
  },
  {
   "cell_type": "markdown",
   "metadata": {},
   "source": [
    "I created a geojson (vector file) from this data source https://data.humdata.org/dataset/uganda-other \n",
    "This data comes from the UN Office for the Coordination of Humanitaria Affairs, S. & E. Africa (UNOCHA-ROSEA) (https://www.unocha.org/rosea).\n",
    "\n",
    "I actually fused this data above with ground water depth maps of Uganda from the British Geological Survey. https://www.bgs.ac.uk/research/groundwater/international/africanGroundwater/mapsDownload.html\n",
    "\n",
    "![borehole](humdata.png)"
   ]
  },
  {
   "cell_type": "code",
   "execution_count": 58,
   "metadata": {},
   "outputs": [],
   "source": [
    "gdf=gpd.read_file('uganda_acholi_water_sources_merge_clean.geojson')   #read in the merged geojson\n",
    "districts=gpd.read_file('uganda_distrcits.geojson')     #let's get a map of the Uganda Distrcits for context"
   ]
  },
  {
   "cell_type": "code",
   "execution_count": 16,
   "metadata": {},
   "outputs": [
    {
     "name": "stdout",
     "output_type": "stream",
     "text": [
      "11683\n"
     ]
    }
   ],
   "source": [
    "print(len(gdf))    #How big is this dataframe?"
   ]
  },
  {
   "cell_type": "code",
   "execution_count": 17,
   "metadata": {},
   "outputs": [
    {
     "data": {
      "text/html": [
       "<div>\n",
       "<style scoped>\n",
       "    .dataframe tbody tr th:only-of-type {\n",
       "        vertical-align: middle;\n",
       "    }\n",
       "\n",
       "    .dataframe tbody tr th {\n",
       "        vertical-align: top;\n",
       "    }\n",
       "\n",
       "    .dataframe thead th {\n",
       "        text-align: right;\n",
       "    }\n",
       "</style>\n",
       "<table border=\"1\" class=\"dataframe\">\n",
       "  <thead>\n",
       "    <tr style=\"text-align: right;\">\n",
       "      <th></th>\n",
       "      <th>index_left</th>\n",
       "      <th>X</th>\n",
       "      <th>Y</th>\n",
       "      <th>DTWAFRICA_</th>\n",
       "      <th>S_02_ID_x</th>\n",
       "      <th>DNAME_2002_x</th>\n",
       "      <th>D_02_ID_x</th>\n",
       "      <th>C_02_ID_x</th>\n",
       "      <th>SNAME_2002_x</th>\n",
       "      <th>CNAME_2002_x</th>\n",
       "      <th>...</th>\n",
       "      <th>P_02_ID</th>\n",
       "      <th>FTYPE</th>\n",
       "      <th>LABEL_P</th>\n",
       "      <th>DTW</th>\n",
       "      <th>DEPTH_clean</th>\n",
       "      <th>LOCATION</th>\n",
       "      <th>MONTH_CONS</th>\n",
       "      <th>REHAB_BY</th>\n",
       "      <th>NOTE</th>\n",
       "      <th>geometry</th>\n",
       "    </tr>\n",
       "  </thead>\n",
       "  <tbody>\n",
       "    <tr>\n",
       "      <th>0</th>\n",
       "      <td>0</td>\n",
       "      <td>33.125</td>\n",
       "      <td>3.211003</td>\n",
       "      <td>VS</td>\n",
       "      <td>305106</td>\n",
       "      <td>KITGUM</td>\n",
       "      <td>305</td>\n",
       "      <td>3051</td>\n",
       "      <td>LAGORO</td>\n",
       "      <td>CHUA</td>\n",
       "      <td>...</td>\n",
       "      <td>30510601</td>\n",
       "      <td>Populated Area</td>\n",
       "      <td>Laber</td>\n",
       "      <td>3.5</td>\n",
       "      <td>58</td>\n",
       "      <td>None</td>\n",
       "      <td>None</td>\n",
       "      <td>None</td>\n",
       "      <td>None</td>\n",
       "      <td>POINT (33.13316239620561 3.179302274159245)</td>\n",
       "    </tr>\n",
       "    <tr>\n",
       "      <th>1</th>\n",
       "      <td>3</td>\n",
       "      <td>33.125</td>\n",
       "      <td>3.161003</td>\n",
       "      <td>VS</td>\n",
       "      <td>305106</td>\n",
       "      <td>KITGUM</td>\n",
       "      <td>305</td>\n",
       "      <td>3051</td>\n",
       "      <td>LAGORO</td>\n",
       "      <td>CHUA</td>\n",
       "      <td>...</td>\n",
       "      <td>30510601</td>\n",
       "      <td>Populated Area</td>\n",
       "      <td>Laber</td>\n",
       "      <td>3.5</td>\n",
       "      <td>58</td>\n",
       "      <td>None</td>\n",
       "      <td>None</td>\n",
       "      <td>None</td>\n",
       "      <td>None</td>\n",
       "      <td>POINT (33.13316239620561 3.179302274159245)</td>\n",
       "    </tr>\n",
       "    <tr>\n",
       "      <th>2</th>\n",
       "      <td>515</td>\n",
       "      <td>33.175</td>\n",
       "      <td>3.161003</td>\n",
       "      <td>VS</td>\n",
       "      <td>312210</td>\n",
       "      <td>PADER</td>\n",
       "      <td>312</td>\n",
       "      <td>3122</td>\n",
       "      <td>WOL</td>\n",
       "      <td>AGAGO</td>\n",
       "      <td>...</td>\n",
       "      <td>30510601</td>\n",
       "      <td>Populated Area</td>\n",
       "      <td>Laber</td>\n",
       "      <td>3.5</td>\n",
       "      <td>58</td>\n",
       "      <td>None</td>\n",
       "      <td>None</td>\n",
       "      <td>None</td>\n",
       "      <td>None</td>\n",
       "      <td>POINT (33.13316239620561 3.179302274159245)</td>\n",
       "    </tr>\n",
       "    <tr>\n",
       "      <th>3</th>\n",
       "      <td>0</td>\n",
       "      <td>33.125</td>\n",
       "      <td>3.211003</td>\n",
       "      <td>VS</td>\n",
       "      <td>305106</td>\n",
       "      <td>KITGUM</td>\n",
       "      <td>305</td>\n",
       "      <td>3051</td>\n",
       "      <td>LAGORO</td>\n",
       "      <td>CHUA</td>\n",
       "      <td>...</td>\n",
       "      <td>30510601</td>\n",
       "      <td>Populated Area</td>\n",
       "      <td>Laber</td>\n",
       "      <td>3.5</td>\n",
       "      <td>49</td>\n",
       "      <td>None</td>\n",
       "      <td>None</td>\n",
       "      <td>None</td>\n",
       "      <td>None</td>\n",
       "      <td>POINT (33.13453067717418 3.180903416589643)</td>\n",
       "    </tr>\n",
       "    <tr>\n",
       "      <th>4</th>\n",
       "      <td>3</td>\n",
       "      <td>33.125</td>\n",
       "      <td>3.161003</td>\n",
       "      <td>VS</td>\n",
       "      <td>305106</td>\n",
       "      <td>KITGUM</td>\n",
       "      <td>305</td>\n",
       "      <td>3051</td>\n",
       "      <td>LAGORO</td>\n",
       "      <td>CHUA</td>\n",
       "      <td>...</td>\n",
       "      <td>30510601</td>\n",
       "      <td>Populated Area</td>\n",
       "      <td>Laber</td>\n",
       "      <td>3.5</td>\n",
       "      <td>49</td>\n",
       "      <td>None</td>\n",
       "      <td>None</td>\n",
       "      <td>None</td>\n",
       "      <td>None</td>\n",
       "      <td>POINT (33.13453067717418 3.180903416589643)</td>\n",
       "    </tr>\n",
       "  </tbody>\n",
       "</table>\n",
       "<p>5 rows × 67 columns</p>\n",
       "</div>"
      ],
      "text/plain": [
       "   index_left       X         Y DTWAFRICA_  S_02_ID_x DNAME_2002_x  D_02_ID_x  \\\n",
       "0           0  33.125  3.211003         VS     305106       KITGUM        305   \n",
       "1           3  33.125  3.161003         VS     305106       KITGUM        305   \n",
       "2         515  33.175  3.161003         VS     312210        PADER        312   \n",
       "3           0  33.125  3.211003         VS     305106       KITGUM        305   \n",
       "4           3  33.125  3.161003         VS     305106       KITGUM        305   \n",
       "\n",
       "   C_02_ID_x SNAME_2002_x CNAME_2002_x  \\\n",
       "0       3051       LAGORO         CHUA   \n",
       "1       3051       LAGORO         CHUA   \n",
       "2       3122          WOL        AGAGO   \n",
       "3       3051       LAGORO         CHUA   \n",
       "4       3051       LAGORO         CHUA   \n",
       "\n",
       "                      ...                        P_02_ID           FTYPE  \\\n",
       "0                     ...                       30510601  Populated Area   \n",
       "1                     ...                       30510601  Populated Area   \n",
       "2                     ...                       30510601  Populated Area   \n",
       "3                     ...                       30510601  Populated Area   \n",
       "4                     ...                       30510601  Populated Area   \n",
       "\n",
       "  LABEL_P  DTW  DEPTH_clean  LOCATION  MONTH_CONS REHAB_BY  NOTE  \\\n",
       "0   Laber  3.5           58      None        None     None  None   \n",
       "1   Laber  3.5           58      None        None     None  None   \n",
       "2   Laber  3.5           58      None        None     None  None   \n",
       "3   Laber  3.5           49      None        None     None  None   \n",
       "4   Laber  3.5           49      None        None     None  None   \n",
       "\n",
       "                                      geometry  \n",
       "0  POINT (33.13316239620561 3.179302274159245)  \n",
       "1  POINT (33.13316239620561 3.179302274159245)  \n",
       "2  POINT (33.13316239620561 3.179302274159245)  \n",
       "3  POINT (33.13453067717418 3.180903416589643)  \n",
       "4  POINT (33.13453067717418 3.180903416589643)  \n",
       "\n",
       "[5 rows x 67 columns]"
      ]
     },
     "execution_count": 17,
     "metadata": {},
     "output_type": "execute_result"
    }
   ],
   "source": [
    "gdf.head(5)     #Show me the first 5 entries"
   ]
  },
  {
   "cell_type": "code",
   "execution_count": 18,
   "metadata": {},
   "outputs": [
    {
     "data": {
      "text/plain": [
       "<matplotlib.axes._subplots.AxesSubplot at 0x11702be10>"
      ]
     },
     "execution_count": 18,
     "metadata": {},
     "output_type": "execute_result"
    },
    {
     "data": {
      "image/png": "[encoded data removed]",
      "text/plain": [
       "<Figure size 1440x720 with 1 Axes>"
      ]
     },
     "metadata": {
      "needs_background": "light"
     },
     "output_type": "display_data"
    }
   ],
   "source": [
    "plt.rcParams['figure.figsize'] = (20, 10)\n",
    "ax = districts.plot(color='blue')\n",
    "\n",
    "for idx, row in gdf.iterrows():\n",
    "    coordinates = row['geometry'].coords.xy\n",
    "    x, y = coordinates[0][0], coordinates[1][0]\n",
    "\n",
    "gdf.plot(ax=ax, color='white')"
   ]
  },
  {
   "cell_type": "code",
   "execution_count": 19,
   "metadata": {},
   "outputs": [],
   "source": [
    "gdf.STATUS=gdf.STATUS.str.lower()\n",
    "gdf['STATUS']=np.where(gdf['STATUS'].str.contains(\"abandoned\"), 1,\n",
    "             np.where(gdf['STATUS'].str.contains(\"blocked\"), 2,\n",
    "             np.where(gdf['STATUS'].str.contains(\"condemned\"), 3,\n",
    "             np.where(gdf['STATUS'].str.contains(\"deserted\"), 4,\n",
    "             np.where(gdf['STATUS'].str.contains(\"dried up\"),5,\n",
    "             np.where(gdf['STATUS'].str.contains(\"dry\"),5,\n",
    "             np.where(gdf['STATUS'].str.contains(\"fishing required\"),6,\n",
    "             np.where(gdf['STATUS'].str.contains(\"functional\"),7,\n",
    "             np.where(gdf['STATUS'].str.contains(\"low yield\"),8,\n",
    "             np.where(gdf['STATUS'].str.contains(\"needs repair\"),9,\n",
    "             np.where(gdf['STATUS'].str.contains(\"non functional\"),10,\n",
    "             np.where(gdf['STATUS'].str.contains(\"non-functional\"),10,\n",
    "             np.where(gdf['STATUS'].str.contains(\"silted\"),11,\n",
    "             np.where(gdf['STATUS'].str.contains(\"temporary down\"),12,\n",
    "             np.where(gdf['STATUS'].str.contains(\"unknown\"), 0,0)))))))))))))))\n",
    "\n",
    "gdf['VILLAGE'] = gdf['VILLAGE'].astype('category')\n",
    "cat_columns = gdf.select_dtypes(['category']).columns\n",
    "gdf[cat_columns] = gdf[cat_columns].apply(lambda x: x.cat.codes)\n",
    "\n",
    "gdf['FUND_AGENC'] = gdf['FUND_AGENC'].astype('category')\n",
    "cat_columns = gdf.select_dtypes(['category']).columns\n",
    "gdf[cat_columns] = gdf[cat_columns].apply(lambda x: x.cat.codes)\n",
    "\n"
   ]
  },
  {
   "cell_type": "markdown",
   "metadata": {},
   "source": [
    "....Lots of the above to create a cleaned dataframe. I'll spare you the details, but took many of the variables and created integer based categories to ingest into a predictive model. We want strings to become numbers, representative of categories."
   ]
  },
  {
   "cell_type": "code",
   "execution_count": 53,
   "metadata": {},
   "outputs": [],
   "source": [
    "df=pd.read_csv('train1.csv')    #this is the cleaned guy. "
   ]
  },
  {
   "cell_type": "markdown",
   "metadata": {},
   "source": [
    "Still some weird things going on with the columns...."
   ]
  },
  {
   "cell_type": "code",
   "execution_count": 54,
   "metadata": {},
   "outputs": [
    {
     "name": "stdout",
     "output_type": "stream",
     "text": [
      "10222\n"
     ]
    }
   ],
   "source": [
    "df.fillna(value=99999, inplace=True)\n",
    "df=df[['X', 'Y', 'S_02_ID_x', 'DNAME_2002', 'D_02_ID_x',\n",
    "       'C_02_ID_x', 'SNAME_2002_x', 'CNAME_2002_x', '2002_CENSU', 'PROJ_POP_J',\n",
    "       'Urban', 'Cvrg2008', 'FID_1', 'FID_1_1', 'DISTRICT', 'VILLAGE',\n",
    "       'SOURCE_NAM', 'FUND_AGENC', 'YEAR_CONST', 'SOURCE_TYP', 'OWNER_TYPE',\n",
    "       'STATUS', 'DEPTH', 'SWL', 'YIELD', 'RECEIVED_N', 'RECEIVED_E',\n",
    "       'WSSC__EXIS', 'WSSC_TRAIN', 'CONTRACTOR', 'Y_UTM200', 'DNAME_2010',\n",
    "       'DNAME_2006', 'CNAME_2006', 'SNAME_2006', 'PNAME_2006', 'FID_2',\n",
    "       'D_02_ID_y', 'PNAME_2002', 'P_02_ID', 'YPE', 'LABEL_P', 'DTW',\n",
    "       'DEPTH_clean', 'uid']]\n",
    "#what ARE some of these variables? Little to know documentation avilable\n",
    "\n",
    "print(len(df))"
   ]
  },
  {
   "cell_type": "markdown",
   "metadata": {},
   "source": [
    "We want to, basically, create a model to predict the well status. So let's see what the population of statuses that we have:\n"
   ]
  },
  {
   "cell_type": "code",
   "execution_count": 55,
   "metadata": {},
   "outputs": [
    {
     "data": {
      "text/plain": [
       "STATUS\n",
       "1      322\n",
       "2        6\n",
       "3        3\n",
       "4        4\n",
       "5       15\n",
       "6        2\n",
       "7     9790\n",
       "8        4\n",
       "9        3\n",
       "10      52\n",
       "11      21\n",
       "Name: X, dtype: int64"
      ]
     },
     "execution_count": 55,
     "metadata": {},
     "output_type": "execute_result"
    }
   ],
   "source": [
    "df.groupby('STATUS').count()['X']"
   ]
  },
  {
   "cell_type": "markdown",
   "metadata": {},
   "source": [
    ":scream: So many class '7'!!!!!!!\n",
    "\n",
    "\n",
    "<b>Question:</b> Why would that a problem?\n",
    "\n",
    "\n",
    "\n",
    "\n"
   ]
  },
  {
   "cell_type": "code",
   "execution_count": 39,
   "metadata": {},
   "outputs": [],
   "source": [
    "to_remove = np.random.choice(df[df['STATUS']==7].index,size=9500,replace=False)   #OK waaay too many functional wells. \n",
    "df=df.drop(to_remove)\n",
    "\n",
    "#pare it down to things that I can ascribe meaning to. Maybe faulty? May have removed important/meaningful information?\n",
    "df_keys=df[['X', 'Y', '2002_CENSU','PROJ_POP_J', 'Urban', 'Cvrg2008',  'DISTRICT', 'VILLAGE','STATUS',\n",
    "       'SOURCE_NAM', 'FUND_AGENC', 'YEAR_CONST', 'SOURCE_TYP', 'OWNER_TYPE','DEPTH', 'SWL', 'YIELD', 'RECEIVED_N',\n",
    "       'RECEIVED_E', 'WSSC__EXIS', 'WSSC_TRAIN', 'CONTRACTOR', 'Y_UTM200','YPE',\n",
    "       'LABEL_P', 'DTW', 'DEPTH_clean','uid']]\n",
    "\n"
   ]
  },
  {
   "cell_type": "code",
   "execution_count": 40,
   "metadata": {},
   "outputs": [],
   "source": [
    "from sklearn import linear_model\n",
    "from sklearn.model_selection import train_test_split\n",
    "\n",
    "X = df_keys[['X', 'Y', '2002_CENSU','PROJ_POP_J', 'Urban',  'DISTRICT', 'VILLAGE',\n",
    "       'SOURCE_NAM', 'FUND_AGENC', 'YEAR_CONST', 'SOURCE_TYP', 'OWNER_TYPE','DEPTH', 'SWL', 'YIELD', 'RECEIVED_N',\n",
    "       'RECEIVED_E', 'WSSC__EXIS', 'WSSC_TRAIN', 'CONTRACTOR', 'Y_UTM200','YPE', 'DTW', 'DEPTH_clean','uid']].values.reshape(-1,25)\n",
    "y = df_keys['STATUS']     #Target\n",
    "\n",
    "X_train, X_test, y_train, y_test = train_test_split(X, y, test_size=0.25)\n",
    "\n"
   ]
  },
  {
   "cell_type": "code",
   "execution_count": 56,
   "metadata": {},
   "outputs": [
    {
     "name": "stdout",
     "output_type": "stream",
     "text": [
      "Index(['Cvrg2008', 'DISTRICT', 'Y_UTM200', '2002_CENSU', 'SOURCE_NAM'], dtype='object')\n"
     ]
    },
    {
     "name": "stderr",
     "output_type": "stream",
     "text": [
      "/usr/local/lib/python3.7/site-packages/sklearn/utils/optimize.py:203: ConvergenceWarning: newton-cg failed to converge. Increase the number of iterations.\n",
      "  \"number of iterations.\", ConvergenceWarning)\n"
     ]
    }
   ],
   "source": [
    "from sklearn.linear_model import LogisticRegression\n",
    "logmodel = LogisticRegression(multi_class='multinomial',solver='newton-cg').fit(X_train, y_train)\n",
    "logmodel.coef_[0]\n",
    "coefs=logmodel.coef_[0]\n",
    "top_five = np.argpartition(coefs, -5)[-5:]\n",
    "#top_three = np.argpartition(coefs, -3)[-3:]\n",
    "print(df_keys.keys()[top_five])\n",
    "#print(logmodel.predict(X_test)[0:13])\n",
    "#print(y_test[0:13])\n"
   ]
  },
  {
   "cell_type": "code",
   "execution_count": 59,
   "metadata": {},
   "outputs": [
    {
     "data": {
      "text/plain": [
       "SOURCE_NAM\n",
       "AD14                              2\n",
       "ASTU                              2\n",
       "ASTU Detacth                      2\n",
       "AVSI CPD                          6\n",
       "Abalo kodi                        4\n",
       "Abicinia                          3\n",
       "Abilonino                         3\n",
       "Abim                              7\n",
       "Abong Rwot                        2\n",
       "Abongo peke                       3\n",
       "Abuga SW                          4\n",
       "Acholibur Hqrs                    3\n",
       "Acholibur P/S                     4\n",
       "Acord                             3\n",
       "Acuru P/S                         4\n",
       "Acut tonga                        4\n",
       "Adaga                             3\n",
       "Adilang HC                        2\n",
       "Adilang SS/Bk 14                  3\n",
       "Adinga                            2\n",
       "Adodi                             2\n",
       "Adunu West                        4\n",
       "Agole                             4\n",
       "Agole PS                         12\n",
       "Agoro Hqrs                        3\n",
       "Agoro P.7                         3\n",
       "AgoroH/center                     3\n",
       "Agoromin IDP                      3\n",
       "Agulu farm                        4\n",
       "Agung camp                        3\n",
       "                                 ..\n",
       "Wiaceng                           2\n",
       "Wicere A                          2\n",
       "Wicere B                          2\n",
       "Wigweng                           2\n",
       "Wii Acodo                         2\n",
       "Wind mill                         4\n",
       "Windmill                          3\n",
       "Wol I/Block D II                  3\n",
       "Wol II/Block D III/Wol Centra     3\n",
       "Wol V/Block E/HCII                2\n",
       "Wol VI/Block E II                 2\n",
       "Wol VIII/Block E IV               3\n",
       "World Food                        6\n",
       "Worober                           6\n",
       "Wot Tek                           3\n",
       "Yaa Pa Achoro                     4\n",
       "Yaa Yen                           3\n",
       "Yapii                             4\n",
       "Yepa A                            3\n",
       "Yepa P.7                          2\n",
       "Yepa P.S                          2\n",
       "Ywaya                             2\n",
       "Zone A                           12\n",
       "Zone B                            6\n",
       "Zone D                            6\n",
       "katebo                            2\n",
       "kibogi                            2\n",
       "school                            2\n",
       "tepwoyo                           3\n",
       "w\\odong                           3\n",
       "Name: X, Length: 1024, dtype: int64"
      ]
     },
     "execution_count": 59,
     "metadata": {},
     "output_type": "execute_result"
    }
   ],
   "source": [
    "gdf.groupby('SOURCE_NAM').count()['X']"
   ]
  },
  {
   "cell_type": "code",
   "execution_count": 46,
   "metadata": {},
   "outputs": [],
   "source": [
    "from sklearn import svm, datasets\n",
    "from sklearn.model_selection import train_test_split\n",
    "from sklearn.metrics import confusion_matrix\n",
    "from sklearn.utils.multiclass import unique_labels\n",
    "\n",
    "\n",
    "def plot_confusion_matrix(y_true, y_pred, classes,\n",
    "                          normalize=False,\n",
    "                          title=None,\n",
    "                          cmap=plt.cm.Blues):\n",
    "    title = title\n",
    "\n",
    "    # Compute confusion matrix\n",
    "    cm = confusion_matrix(y_true, y_pred)\n",
    "    # Only use the labels that appear in the data\n",
    "    classes = classes  #[unique_labels(y_true, y_pred)]\n",
    "    if normalize:\n",
    "        cm = cm.astype('float') / cm.sum(axis=1)[:, np.newaxis]\n",
    "        print(\"Normalized confusion matrix\")\n",
    "    else:\n",
    "        print('Confusion matrix, without normalization')\n",
    "\n",
    "    print(cm)\n",
    "\n",
    "    fig, ax = plt.subplots()\n",
    "    im = ax.imshow(cm, interpolation='nearest', cmap=cmap)\n",
    "    ax.figure.colorbar(im, ax=ax)\n",
    "    # We want to show all ticks...\n",
    "    ax.set(xticks=np.arange(cm.shape[1]),\n",
    "           yticks=np.arange(cm.shape[0]),\n",
    "           # ... and label them with the respective list entries\n",
    "           xticklabels=classes, yticklabels=classes,\n",
    "           title=title,\n",
    "           ylabel='True label',\n",
    "           xlabel='Predicted label')\n",
    "\n",
    "    # Rotate the tick labels and set their alignment.\n",
    "    plt.setp(ax.get_xticklabels(), rotation=45, ha=\"right\",\n",
    "             rotation_mode=\"anchor\")\n",
    "\n",
    "    # Loop over data dimensions and create text annotations.\n",
    "    fmt = '.2f' if normalize else 'd'\n",
    "    thresh = cm.max() / 2.\n",
    "    for i in range(cm.shape[0]):\n",
    "        for j in range(cm.shape[1]):\n",
    "            ax.text(j, i, format(cm[i, j], fmt),\n",
    "                    ha=\"center\", va=\"center\",\n",
    "                    color=\"white\" if cm[i, j] > thresh else \"black\")\n",
    "    fig.tight_layout()\n",
    "    return ax\n",
    "\n"
   ]
  },
  {
   "cell_type": "code",
   "execution_count": 48,
   "metadata": {},
   "outputs": [],
   "source": [
    "np.set_printoptions(precision=2)\n",
    "y_pred=logmodel.predict(X_test)\n",
    "\n"
   ]
  },
  {
   "cell_type": "markdown",
   "metadata": {},
   "source": [
    "<b>Question:</b> Why do we predict on a 'test' set? What is unique or different about this set relative to what we trained on?"
   ]
  },
  {
   "cell_type": "code",
   "execution_count": 49,
   "metadata": {},
   "outputs": [
    {
     "name": "stdout",
     "output_type": "stream",
     "text": [
      "Confusion matrix, without normalization\n",
      "[[86  0  0  0  0  0 28  0  0  1]\n",
      " [ 1  1  0  0  0  0  1  0  0  0]\n",
      " [ 1  0  0  0  0  0  0  0  0  0]\n",
      " [ 0  0  0  1  0  0  0  0  0  0]\n",
      " [ 0  0  0  0  0  0  0  0  2  0]\n",
      " [ 0  0  0  0  0  0  0  0  1  0]\n",
      " [ 8  0  0  0  0  0 25  0  2  0]\n",
      " [ 0  0  0  0  0  0  0  0  0  0]\n",
      " [ 2  0  0  0  1  0  3  1  7  0]\n",
      " [ 4  0  0  0  0  0  3  0  0  2]]\n"
     ]
    },
    {
     "data": {
      "image/png": "[encoded data removed]",
      "text/plain": [
       "<Figure size 1440x720 with 2 Axes>"
      ]
     },
     "metadata": {
      "needs_background": "light"
     },
     "output_type": "display_data"
    }
   ],
   "source": [
    "y_test=y_test.values.reshape((181, -1))\n",
    "class_names=['abandoned','blocked','condemned','deserted','dry','fishing required','functional','low yield','needs repair','non-functional','silted']\n",
    "plot_confusion_matrix(np.array(y_pred), y_test, classes=class_names,title='Uganda Water Well (Borehole) Status')\n",
    "\n",
    "\n",
    "plt.show()\n",
    "\n",
    "\n"
   ]
  }
 ],
 "metadata": {
  "kernelspec": {
   "display_name": "Python 3",
   "language": "python",
   "name": "python3"
  },
  "language_info": {
   "codemirror_mode": {
    "name": "ipython",
    "version": 3
   },
   "file_extension": ".py",
   "mimetype": "text/x-python",
   "name": "python",
   "nbconvert_exporter": "python",
   "pygments_lexer": "ipython3",
   "version": "3.7.0"
  }
 },
 "nbformat": 4,
 "nbformat_minor": 2
}
